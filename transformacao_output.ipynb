{
 "cells": [
  {
   "cell_type": "markdown",
   "id": "ee35900a",
   "metadata": {
    "papermill": {
     "duration": 0.0096,
     "end_time": "2025-05-10T14:20:12.684491",
     "exception": false,
     "start_time": "2025-05-10T14:20:12.674891",
     "status": "completed"
    },
    "tags": []
   },
   "source": [
    "## [Eng de Dados] Trabalho Final - DataOps\n",
    "#### Benício B. de A. Carneiro\n",
    "10/05/2025\n"
   ]
  },
  {
   "cell_type": "code",
   "execution_count": 1,
   "id": "5a578723",
   "metadata": {
    "execution": {
     "iopub.execute_input": "2025-05-10T14:20:12.688485Z",
     "iopub.status.busy": "2025-05-10T14:20:12.688245Z",
     "iopub.status.idle": "2025-05-10T14:20:13.009862Z",
     "shell.execute_reply": "2025-05-10T14:20:13.009618Z"
    },
    "papermill": {
     "duration": 0.324293,
     "end_time": "2025-05-10T14:20:13.010678",
     "exception": false,
     "start_time": "2025-05-10T14:20:12.686385",
     "status": "completed"
    },
    "tags": []
   },
   "outputs": [],
   "source": [
    "import pandas as pd\n",
    "import sqlite3\n",
    "\n"
   ]
  },
  {
   "cell_type": "markdown",
   "id": "c2df36e6",
   "metadata": {
    "papermill": {
     "duration": 0.000505,
     "end_time": "2025-05-10T14:20:13.011957",
     "exception": false,
     "start_time": "2025-05-10T14:20:13.011452",
     "status": "completed"
    },
    "tags": []
   },
   "source": [
    "### [TRANSFORMAÇÃO] Camada Prata"
   ]
  },
  {
   "cell_type": "code",
   "execution_count": 2,
   "id": "ab5d46d2",
   "metadata": {
    "execution": {
     "iopub.execute_input": "2025-05-10T14:20:13.013232Z",
     "iopub.status.busy": "2025-05-10T14:20:13.013128Z",
     "iopub.status.idle": "2025-05-10T14:20:13.015627Z",
     "shell.execute_reply": "2025-05-10T14:20:13.015459Z"
    },
    "papermill": {
     "duration": 0.00374,
     "end_time": "2025-05-10T14:20:13.016136",
     "exception": false,
     "start_time": "2025-05-10T14:20:13.012396",
     "status": "completed"
    },
    "tags": []
   },
   "outputs": [],
   "source": [
    "conn_sqlite = sqlite3.connect('salarios-servidores.db')\n",
    "\n",
    "df = pd.read_sql_query('SELECT * FROM \"landing-abril\"', conn_sqlite)"
   ]
  },
  {
   "cell_type": "code",
   "execution_count": 3,
   "id": "5b923818",
   "metadata": {
    "execution": {
     "iopub.execute_input": "2025-05-10T14:20:13.017367Z",
     "iopub.status.busy": "2025-05-10T14:20:13.017294Z",
     "iopub.status.idle": "2025-05-10T14:20:13.032056Z",
     "shell.execute_reply": "2025-05-10T14:20:13.031848Z"
    },
    "papermill": {
     "duration": 0.016053,
     "end_time": "2025-05-10T14:20:13.032657",
     "exception": false,
     "start_time": "2025-05-10T14:20:13.016604",
     "status": "completed"
    },
    "tags": []
   },
   "outputs": [
    {
     "name": "stdout",
     "output_type": "stream",
     "text": [
      "<class 'pandas.core.frame.DataFrame'>\n",
      "RangeIndex: 200 entries, 0 to 199\n",
      "Data columns (total 14 columns):\n",
      " #   Column              Non-Null Count  Dtype                    \n",
      "---  ------              --------------  -----                    \n",
      " 0   id                  200 non-null    object                   \n",
      " 1   total_proventos     200 non-null    float64                  \n",
      " 2   proventos_liquidos  200 non-null    float64                  \n",
      " 3   total_descontos     200 non-null    float64                  \n",
      " 4   desconto_teto       200 non-null    float64                  \n",
      " 5   outros_descontos    200 non-null    float64                  \n",
      " 6   criacao             200 non-null    datetime64[ns, UTC-03:00]\n",
      " 7   atualizacao         200 non-null    datetime64[ns, UTC-03:00]\n",
      " 8   competencia         200 non-null    datetime64[ns]           \n",
      " 9   situacao_funcional  200 non-null    object                   \n",
      " 10  dsc_cargo           200 non-null    object                   \n",
      " 11  codigo_orgao        200 non-null    object                   \n",
      " 12  descricao_orgao     200 non-null    object                   \n",
      " 13  sigla               200 non-null    object                   \n",
      "dtypes: datetime64[ns, UTC-03:00](2), datetime64[ns](1), float64(5), object(6)\n",
      "memory usage: 22.0+ KB\n"
     ]
    }
   ],
   "source": [
    "df.drop(columns=['diarias', 'nome_servidor'], inplace=True)\n",
    "\n",
    "df['total_proventos'] = pd.to_numeric(df['total_proventos'])\n",
    "df['proventos_liquidos'] = pd.to_numeric(df['proventos_liquidos'])\n",
    "df['total_descontos'] = pd.to_numeric(df['total_descontos'])\n",
    "df['desconto_teto'] = pd.to_numeric(df['desconto_teto'])\n",
    "df['outros_descontos'] = pd.to_numeric(df['outros_descontos'])\n",
    "#df['diarias'] = pd.to_numeric(df['diarias'])\n",
    "\n",
    "df['criacao'] = pd.to_datetime(df['criacao'])\n",
    "df['atualizacao'] = pd.to_datetime(df['atualizacao'])\n",
    "df['competencia'] = pd.to_datetime(df['competencia'])\n",
    "\n",
    "df['id'] = df['id'].astype(str)\n",
    "\n",
    "df.drop_duplicates(inplace=True)\n",
    "df.info()"
   ]
  },
  {
   "cell_type": "code",
   "execution_count": 4,
   "id": "b4f6ef06",
   "metadata": {
    "execution": {
     "iopub.execute_input": "2025-05-10T14:20:13.034150Z",
     "iopub.status.busy": "2025-05-10T14:20:13.034066Z",
     "iopub.status.idle": "2025-05-10T14:20:13.118580Z",
     "shell.execute_reply": "2025-05-10T14:20:13.118379Z"
    },
    "papermill": {
     "duration": 0.085841,
     "end_time": "2025-05-10T14:20:13.119159",
     "exception": false,
     "start_time": "2025-05-10T14:20:13.033318",
     "status": "completed"
    },
    "tags": []
   },
   "outputs": [
    {
     "data": {
      "text/plain": [
       "200"
      ]
     },
     "execution_count": 4,
     "metadata": {},
     "output_type": "execute_result"
    }
   ],
   "source": [
    "df.to_sql('staging-abril', conn_sqlite, if_exists='replace', index=False)\n"
   ]
  }
 ],
 "metadata": {
  "kernelspec": {
   "display_name": "base",
   "language": "python",
   "name": "python3"
  },
  "language_info": {
   "codemirror_mode": {
    "name": "ipython",
    "version": 3
   },
   "file_extension": ".py",
   "mimetype": "text/x-python",
   "name": "python",
   "nbconvert_exporter": "python",
   "pygments_lexer": "ipython3",
   "version": "3.12.9"
  },
  "papermill": {
   "default_parameters": {},
   "duration": 1.293276,
   "end_time": "2025-05-10T14:20:13.234340",
   "environment_variables": {},
   "exception": null,
   "input_path": "transformacao.ipynb",
   "output_path": "transformacao_output.ipynb",
   "parameters": {},
   "start_time": "2025-05-10T14:20:11.941064",
   "version": "2.6.0"
  }
 },
 "nbformat": 4,
 "nbformat_minor": 5
}