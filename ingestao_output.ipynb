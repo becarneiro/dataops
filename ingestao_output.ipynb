{
 "cells": [
  {
   "cell_type": "markdown",
   "id": "308a5a03",
   "metadata": {
    "papermill": {
     "duration": 0.004777,
     "end_time": "2025-05-10T14:20:10.378215",
     "exception": false,
     "start_time": "2025-05-10T14:20:10.373438",
     "status": "completed"
    },
    "tags": []
   },
   "source": [
    "## [Eng de Dados] Trabalho Final - DataOps\n",
    "#### Benício B. de A. Carneiro\n",
    "10/05/2025\n"
   ]
  },
  {
   "cell_type": "code",
   "execution_count": 1,
   "id": "b37a0319",
   "metadata": {
    "execution": {
     "iopub.execute_input": "2025-05-10T14:20:10.385574Z",
     "iopub.status.busy": "2025-05-10T14:20:10.385179Z",
     "iopub.status.idle": "2025-05-10T14:20:10.752390Z",
     "shell.execute_reply": "2025-05-10T14:20:10.752129Z"
    },
    "papermill": {
     "duration": 0.371659,
     "end_time": "2025-05-10T14:20:10.753268",
     "exception": false,
     "start_time": "2025-05-10T14:20:10.381609",
     "status": "completed"
    },
    "tags": []
   },
   "outputs": [],
   "source": [
    "from concurrent.futures import ThreadPoolExecutor, as_completed\n",
    "import requests\n",
    "import pandas as pd\n",
    "import sqlite3\n",
    "\n"
   ]
  },
  {
   "cell_type": "markdown",
   "id": "71394a1d",
   "metadata": {
    "papermill": {
     "duration": 0.00067,
     "end_time": "2025-05-10T14:20:10.754849",
     "exception": false,
     "start_time": "2025-05-10T14:20:10.754179",
     "status": "completed"
    },
    "tags": []
   },
   "source": [
    "### [INGESTAO] Chamada da API"
   ]
  },
  {
   "cell_type": "code",
   "execution_count": 2,
   "id": "7cd50fc0",
   "metadata": {
    "execution": {
     "iopub.execute_input": "2025-05-10T14:20:10.756278Z",
     "iopub.status.busy": "2025-05-10T14:20:10.756156Z",
     "iopub.status.idle": "2025-05-10T14:20:10.757648Z",
     "shell.execute_reply": "2025-05-10T14:20:10.757457Z"
    },
    "papermill": {
     "duration": 0.00279,
     "end_time": "2025-05-10T14:20:10.758165",
     "exception": false,
     "start_time": "2025-05-10T14:20:10.755375",
     "status": "completed"
    },
    "tags": []
   },
   "outputs": [],
   "source": [
    "data = []"
   ]
  },
  {
   "cell_type": "code",
   "execution_count": 3,
   "id": "efb52dff",
   "metadata": {
    "execution": {
     "iopub.execute_input": "2025-05-10T14:20:10.759545Z",
     "iopub.status.busy": "2025-05-10T14:20:10.759453Z",
     "iopub.status.idle": "2025-05-10T14:20:11.190874Z",
     "shell.execute_reply": "2025-05-10T14:20:11.189821Z"
    },
    "papermill": {
     "duration": 0.435087,
     "end_time": "2025-05-10T14:20:11.193750",
     "exception": false,
     "start_time": "2025-05-10T14:20:10.758663",
     "status": "completed"
    },
    "tags": []
   },
   "outputs": [],
   "source": [
    "response = requests.get('https://api-dados-abertos.cearatransparente.ce.gov.br/transparencia/servidores/salarios?year=2024&month=4&page=1',\n",
    "                        headers={'accept':'application/json'}).json()"
   ]
  },
  {
   "cell_type": "code",
   "execution_count": 4,
   "id": "98a980a1",
   "metadata": {
    "execution": {
     "iopub.execute_input": "2025-05-10T14:20:11.202705Z",
     "iopub.status.busy": "2025-05-10T14:20:11.202332Z",
     "iopub.status.idle": "2025-05-10T14:20:11.205773Z",
     "shell.execute_reply": "2025-05-10T14:20:11.205067Z"
    },
    "papermill": {
     "duration": 0.008989,
     "end_time": "2025-05-10T14:20:11.207087",
     "exception": false,
     "start_time": "2025-05-10T14:20:11.198098",
     "status": "completed"
    },
    "tags": []
   },
   "outputs": [],
   "source": [
    "total_pages = 2 #response['sumary']['total_pages']"
   ]
  },
  {
   "cell_type": "code",
   "execution_count": 5,
   "id": "0c4f244f",
   "metadata": {
    "execution": {
     "iopub.execute_input": "2025-05-10T14:20:11.211552Z",
     "iopub.status.busy": "2025-05-10T14:20:11.211343Z",
     "iopub.status.idle": "2025-05-10T14:20:11.214033Z",
     "shell.execute_reply": "2025-05-10T14:20:11.213655Z"
    },
    "papermill": {
     "duration": 0.005785,
     "end_time": "2025-05-10T14:20:11.214975",
     "exception": false,
     "start_time": "2025-05-10T14:20:11.209190",
     "status": "completed"
    },
    "tags": []
   },
   "outputs": [],
   "source": [
    "def get_data(i):\n",
    "    response = requests.get(f'https://api-dados-abertos.cearatransparente.ce.gov.br/transparencia/servidores/salarios?year=2024&month=1&page={i}',\n",
    "            headers={'accept':'application/json'}).json()\n",
    "    return response['data']"
   ]
  },
  {
   "cell_type": "code",
   "execution_count": 6,
   "id": "fe430322",
   "metadata": {
    "execution": {
     "iopub.execute_input": "2025-05-10T14:20:11.218311Z",
     "iopub.status.busy": "2025-05-10T14:20:11.218165Z",
     "iopub.status.idle": "2025-05-10T14:20:11.795949Z",
     "shell.execute_reply": "2025-05-10T14:20:11.794662Z"
    },
    "papermill": {
     "duration": 0.582307,
     "end_time": "2025-05-10T14:20:11.798889",
     "exception": false,
     "start_time": "2025-05-10T14:20:11.216582",
     "status": "completed"
    },
    "tags": []
   },
   "outputs": [],
   "source": [
    "with ThreadPoolExecutor(max_workers=4) as executor:\n",
    "    futures = {executor.submit(get_data, i): i for i in range(1,total_pages+1)}\n",
    "    [data.extend(future.result()) for future in as_completed(futures)]"
   ]
  },
  {
   "cell_type": "code",
   "execution_count": 7,
   "id": "2dab52c1",
   "metadata": {
    "execution": {
     "iopub.execute_input": "2025-05-10T14:20:11.807446Z",
     "iopub.status.busy": "2025-05-10T14:20:11.807090Z",
     "iopub.status.idle": "2025-05-10T14:20:11.820869Z",
     "shell.execute_reply": "2025-05-10T14:20:11.820520Z"
    },
    "papermill": {
     "duration": 0.018651,
     "end_time": "2025-05-10T14:20:11.821871",
     "exception": false,
     "start_time": "2025-05-10T14:20:11.803220",
     "status": "completed"
    },
    "tags": []
   },
   "outputs": [
    {
     "data": {
      "text/plain": [
       "200"
      ]
     },
     "execution_count": 7,
     "metadata": {},
     "output_type": "execute_result"
    }
   ],
   "source": [
    "df_bronze = pd.DataFrame(data)\n",
    "\n",
    "# Create a connection to the SQLite database\n",
    "conn_sqlite = sqlite3.connect('salarios-servidores.db')\n",
    "\n",
    "# Save the DataFrame to the SQLite database\n",
    "df_bronze.to_sql('landing-abril', conn_sqlite, if_exists='replace', index=False)\n",
    "\n",
    "\n",
    "# # Close the connection\n",
    "# conn_sqlite.close()"
   ]
  }
 ],
 "metadata": {
  "kernelspec": {
   "display_name": "base",
   "language": "python",
   "name": "python3"
  },
  "language_info": {
   "codemirror_mode": {
    "name": "ipython",
    "version": 3
   },
   "file_extension": ".py",
   "mimetype": "text/x-python",
   "name": "python",
   "nbconvert_exporter": "python",
   "pygments_lexer": "ipython3",
   "version": "3.12.9"
  },
  "papermill": {
   "default_parameters": {},
   "duration": 2.178009,
   "end_time": "2025-05-10T14:20:11.939009",
   "environment_variables": {},
   "exception": null,
   "input_path": "ingestao.ipynb",
   "output_path": "ingestao_output.ipynb",
   "parameters": {},
   "start_time": "2025-05-10T14:20:09.761000",
   "version": "2.6.0"
  }
 },
 "nbformat": 4,
 "nbformat_minor": 5
}