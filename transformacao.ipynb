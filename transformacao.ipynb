{
 "cells": [
  {
   "cell_type": "markdown",
   "metadata": {},
   "source": [
    "## [Eng de Dados] Trabalho Final - DataOps\n",
    "#### Benício B. de A. Carneiro\n",
    "10/05/2025\n"
   ]
  },
  {
   "cell_type": "code",
   "execution_count": 1,
   "metadata": {},
   "outputs": [],
   "source": [
    "import pandas as pd\n",
    "import sqlite3\n",
    "\n"
   ]
  },
  {
   "cell_type": "markdown",
   "metadata": {},
   "source": [
    "### [TRANSFORMAÇÃO] Camada Prata"
   ]
  },
  {
   "cell_type": "code",
   "execution_count": null,
   "metadata": {},
   "outputs": [],
   "source": [
    "conn_sqlite = sqlite3.connect('salarios-servidores.db')\n",
    "\n",
    "df = pd.read_sql_query('SELECT * FROM \"landing-abril\"', conn_sqlite)"
   ]
  },
  {
   "cell_type": "code",
   "execution_count": 7,
   "metadata": {},
   "outputs": [
    {
     "name": "stdout",
     "output_type": "stream",
     "text": [
      "<class 'pandas.core.frame.DataFrame'>\n",
      "Index: 116813 entries, 0 to 172876\n",
      "Data columns (total 14 columns):\n",
      " #   Column              Non-Null Count   Dtype                    \n",
      "---  ------              --------------   -----                    \n",
      " 0   id                  116813 non-null  object                   \n",
      " 1   total_proventos     116813 non-null  float64                  \n",
      " 2   proventos_liquidos  116813 non-null  float64                  \n",
      " 3   total_descontos     116813 non-null  float64                  \n",
      " 4   desconto_teto       116813 non-null  float64                  \n",
      " 5   outros_descontos    116813 non-null  float64                  \n",
      " 6   criacao             116813 non-null  datetime64[ns, UTC-03:00]\n",
      " 7   atualizacao         116813 non-null  datetime64[ns, UTC-03:00]\n",
      " 8   competencia         116813 non-null  datetime64[ns]           \n",
      " 9   situacao_funcional  116813 non-null  object                   \n",
      " 10  dsc_cargo           116813 non-null  object                   \n",
      " 11  codigo_orgao        116718 non-null  object                   \n",
      " 12  descricao_orgao     116813 non-null  object                   \n",
      " 13  sigla               116813 non-null  object                   \n",
      "dtypes: datetime64[ns, UTC-03:00](2), datetime64[ns](1), float64(5), object(6)\n",
      "memory usage: 13.4+ MB\n"
     ]
    }
   ],
   "source": [
    "df.drop(columns=['diarias', 'nome_servidor'], inplace=True)\n",
    "\n",
    "df['total_proventos'] = pd.to_numeric(df['total_proventos'])\n",
    "df['proventos_liquidos'] = pd.to_numeric(df['proventos_liquidos'])\n",
    "df['total_descontos'] = pd.to_numeric(df['total_descontos'])\n",
    "df['desconto_teto'] = pd.to_numeric(df['desconto_teto'])\n",
    "df['outros_descontos'] = pd.to_numeric(df['outros_descontos'])\n",
    "#df['diarias'] = pd.to_numeric(df['diarias'])\n",
    "\n",
    "df['criacao'] = pd.to_datetime(df['criacao'])\n",
    "df['atualizacao'] = pd.to_datetime(df['atualizacao'])\n",
    "df['competencia'] = pd.to_datetime(df['competencia'])\n",
    "\n",
    "df['id'] = df['id'].astype(str)\n",
    "\n",
    "df.drop_duplicates(inplace=True)\n",
    "df.info()"
   ]
  },
  {
   "cell_type": "code",
   "execution_count": 8,
   "metadata": {},
   "outputs": [
    {
     "data": {
      "text/plain": [
       "116813"
      ]
     },
     "execution_count": 8,
     "metadata": {},
     "output_type": "execute_result"
    }
   ],
   "source": [
    "df.to_sql('staging-abril', conn_sqlite, if_exists='replace', index=False)\n"
   ]
  }
 ],
 "metadata": {
  "kernelspec": {
   "display_name": "base",
   "language": "python",
   "name": "python3"
  },
  "language_info": {
   "codemirror_mode": {
    "name": "ipython",
    "version": 3
   },
   "file_extension": ".py",
   "mimetype": "text/x-python",
   "name": "python",
   "nbconvert_exporter": "python",
   "pygments_lexer": "ipython3",
   "version": "3.12.9"
  }
 },
 "nbformat": 4,
 "nbformat_minor": 2
}
